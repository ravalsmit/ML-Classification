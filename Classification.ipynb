{
 "cells": [
  {
   "cell_type": "markdown",
   "id": "33c528b5",
   "metadata": {},
   "source": [
    "# Classification Algorithms in Machine Learning\n",
    "\n",
    "In machine learning, classification algorithms are foundational techniques used to categorize data into predefined classes. Each algorithm operates differently, offering a unique approach to solving classification problems.\n",
    "\n",
    "### 1. Logistic Regression\n",
    "\n",
    "- **Purpose:** Logistic Regression is used for binary classification tasks, predicting the probability of belonging to a class.\n",
    "- **Working:** It models the probability using the logistic function. The algorithm estimates coefficients for each feature. The linear combination of features is transformed using the logistic function to predict the probability of the positive class.\n",
    "- **Use Case:** Predicting whether a customer will churn or not based on their behavior and demographics.\n",
    "\n",
    "### 2. Decision Trees\n",
    "\n",
    "- **Purpose:** Decision Trees are suited for both binary and multi-class classification tasks. They excel in capturing non-linear relationships.\n",
    "- **Working:** The algorithm selects features that maximize information gain or reduce impurity. It recursively splits data based on these features until it reaches leaf nodes. Each leaf node corresponds to a predicted class.\n",
    "- **Use Case:** Identifying whether a passenger survived or not in the Titanic dataset based on features like age, gender, and fare.\n",
    "\n",
    "### 3. Random Forest\n",
    "\n",
    "- **Purpose:** Random Forest improves accuracy and mitigates overfitting compared to individual Decision Trees.\n",
    "- **Working:** It constructs an ensemble of Decision Trees by using random subsets of the data and features for each tree. The final prediction is the aggregated output of the individual trees.\n",
    "- **Use Case:** Classifying diseases based on medical test results, where diverse trees enhance prediction reliability.\n",
    "\n",
    "### 4. Support Vector Machines (SVM)\n",
    "\n",
    "- **Purpose:** SVM finds a hyperplane that maximizes the margin between classes in binary or multi-class tasks.\n",
    "- **Working:** It maps data points into a higher-dimensional space and determines the hyperplane that maximizes the margin between classes. The algorithm classifies new data points based on which side of the hyperplane they fall on.\n",
    "- **Use Case:** Distinguishing between spam and non-spam emails using the text content's features.\n",
    "\n",
    "### 5. Naive Bayes\n",
    "\n",
    "- **Purpose:** Naive Bayes is suitable for text classification and scenarios where the independence assumption holds.\n",
    "- **Working:** The algorithm calculates the posterior probability of a class given input data by multiplying prior probabilities with the likelihoods of observing features in that class. It then assigns the class with the highest probability.\n",
    "- **Use Case:** Categorizing news articles into topics based on the words present in the articles.\n",
    "\n",
    "Stay with me for the continuation of the module with the remaining algorithms.\n"
   ]
  },
  {
   "cell_type": "code",
   "execution_count": 3,
   "id": "4301283b",
   "metadata": {},
   "outputs": [
    {
     "data": {
      "text/html": [
       "<div>\n",
       "<style scoped>\n",
       "    .dataframe tbody tr th:only-of-type {\n",
       "        vertical-align: middle;\n",
       "    }\n",
       "\n",
       "    .dataframe tbody tr th {\n",
       "        vertical-align: top;\n",
       "    }\n",
       "\n",
       "    .dataframe thead th {\n",
       "        text-align: right;\n",
       "    }\n",
       "</style>\n",
       "<table border=\"1\" class=\"dataframe\">\n",
       "  <thead>\n",
       "    <tr style=\"text-align: right;\">\n",
       "      <th></th>\n",
       "      <th>transaction_id</th>\n",
       "      <th>transaction_amount</th>\n",
       "      <th>merchant_category</th>\n",
       "      <th>customer_age</th>\n",
       "      <th>is_fraud</th>\n",
       "    </tr>\n",
       "  </thead>\n",
       "  <tbody>\n",
       "    <tr>\n",
       "      <th>0</th>\n",
       "      <td>1</td>\n",
       "      <td>380.79</td>\n",
       "      <td>Entertainment</td>\n",
       "      <td>39</td>\n",
       "      <td>0</td>\n",
       "    </tr>\n",
       "    <tr>\n",
       "      <th>1</th>\n",
       "      <td>2</td>\n",
       "      <td>951.21</td>\n",
       "      <td>Grocery</td>\n",
       "      <td>77</td>\n",
       "      <td>0</td>\n",
       "    </tr>\n",
       "    <tr>\n",
       "      <th>2</th>\n",
       "      <td>3</td>\n",
       "      <td>734.67</td>\n",
       "      <td>Entertainment</td>\n",
       "      <td>54</td>\n",
       "      <td>0</td>\n",
       "    </tr>\n",
       "    <tr>\n",
       "      <th>3</th>\n",
       "      <td>4</td>\n",
       "      <td>602.67</td>\n",
       "      <td>Entertainment</td>\n",
       "      <td>69</td>\n",
       "      <td>0</td>\n",
       "    </tr>\n",
       "    <tr>\n",
       "      <th>4</th>\n",
       "      <td>5</td>\n",
       "      <td>164.46</td>\n",
       "      <td>Retail</td>\n",
       "      <td>59</td>\n",
       "      <td>0</td>\n",
       "    </tr>\n",
       "  </tbody>\n",
       "</table>\n",
       "</div>"
      ],
      "text/plain": [
       "   transaction_id  transaction_amount merchant_category  customer_age  \\\n",
       "0               1              380.79     Entertainment            39   \n",
       "1               2              951.21           Grocery            77   \n",
       "2               3              734.67     Entertainment            54   \n",
       "3               4              602.67     Entertainment            69   \n",
       "4               5              164.46            Retail            59   \n",
       "\n",
       "   is_fraud  \n",
       "0         0  \n",
       "1         0  \n",
       "2         0  \n",
       "3         0  \n",
       "4         0  "
      ]
     },
     "execution_count": 3,
     "metadata": {},
     "output_type": "execute_result"
    }
   ],
   "source": [
    "# Create a random dataset..,\n",
    "import pandas as pd\n",
    "import numpy as np\n",
    "\n",
    "# Set a random seed for reproducibility\n",
    "np.random.seed(42)\n",
    "\n",
    "# Generate synthetic data\n",
    "num_samples = 1000\n",
    "\n",
    "data = {\n",
    "    'transaction_id': np.arange(1, num_samples+1),\n",
    "    'transaction_amount': np.random.uniform(10, 1000, num_samples).round(2),\n",
    "    'merchant_category': np.random.choice(['Retail', 'Grocery', 'Entertainment'], num_samples),\n",
    "    'customer_age': np.random.randint(18, 80, num_samples),\n",
    "    'is_fraud': np.random.choice([0, 1], num_samples, p=[0.95, 0.05])\n",
    "}\n",
    "\n",
    "# Create a DataFrame\n",
    "df = pd.DataFrame(data)\n",
    "\n",
    "# Display the first few rows of the DataFrame\n",
    "df.head()"
   ]
  },
  {
   "cell_type": "markdown",
   "id": "40854dab",
   "metadata": {},
   "source": [
    "## Data Preparation:\n",
    "\n",
    "- Load the synthetic dataset.\n",
    "- Explore and understand the data.\n",
    "- Split the data into features (X) and target variable (y).\n",
    "\n",
    "## Data Preprocessing:\n",
    "- Encode categorical variables.\n",
    "- Split the data into training and testing sets.\n",
    "\n",
    "## Model Selection and Training:\n",
    "- Choose classification algorithms.\n",
    "- Train each algorithm on the training data.\n",
    "\n",
    "## Model Evaluation:\n",
    "- Predict on the testing data.\n",
    "- Calculate accuracy for each model.\n",
    "\n",
    "## Visualization:\n",
    "- Create individual plots for each model's performance."
   ]
  },
  {
   "cell_type": "code",
   "execution_count": 11,
   "id": "26a90a9e",
   "metadata": {},
   "outputs": [],
   "source": [
    "import pandas as pd\n",
    "import numpy as np\n",
    "from sklearn.model_selection import train_test_split\n",
    "from sklearn.preprocessing import LabelEncoder\n",
    "from sklearn.linear_model import LogisticRegression\n",
    "from sklearn.tree import DecisionTreeClassifier\n",
    "from sklearn.ensemble import RandomForestClassifier, GradientBoostingClassifier\n",
    "from sklearn.svm import SVC\n",
    "from sklearn.naive_bayes import GaussianNB\n",
    "from sklearn.neighbors import KNeighborsClassifier\n",
    "from sklearn.metrics import accuracy_score\n",
    "import matplotlib.pyplot as plt"
   ]
  },
  {
   "cell_type": "code",
   "execution_count": 12,
   "id": "47cdbfa4",
   "metadata": {},
   "outputs": [],
   "source": [
    "# Data Preprocessing\n",
    "# Encode categorical variables\n",
    "encoder = LabelEncoder()\n",
    "df['merchant_category_encoded'] = encoder.fit_transform(df['merchant_category'])\n",
    "\n",
    "# Split the data into features (X) and target variable (y)\n",
    "X = df.drop(['transaction_id', 'merchant_category', 'is_fraud'], axis=1)\n",
    "y = df['is_fraud']\n",
    "\n",
    "# Split the data into training and testing sets\n",
    "X_train, X_test, y_train, y_test = train_test_split(X, y, test_size=0.2, random_state=42)"
   ]
  },
  {
   "cell_type": "code",
   "execution_count": 13,
   "id": "d0230f95",
   "metadata": {},
   "outputs": [],
   "source": [
    "# Model Selection and Training\n",
    "models = {\n",
    "    'Logistic Regression': LogisticRegression(),\n",
    "    'Decision Tree': DecisionTreeClassifier(),\n",
    "    'Random Forest': RandomForestClassifier(),\n",
    "    'Support Vector Machine': SVC(),\n",
    "    'Gradient Boosting': GradientBoostingClassifier(),\n",
    "    'Naive Bayes': GaussianNB(),\n",
    "    'K-Nearest Neighbors': KNeighborsClassifier()\n",
    "}\n",
    "trained_models = {}\n",
    "for name, model in models.items():\n",
    "    model.fit(X_train, y_train)\n",
    "    trained_models[name] = model\n",
    "\n",
    "# Model Evaluation\n",
    "accuracies = {}\n",
    "for name, model in trained_models.items():\n",
    "    y_pred = model.predict(X_test)\n",
    "    accuracy = accuracy_score(y_test, y_pred)\n",
    "    accuracies[name] = accuracy"
   ]
  },
  {
   "cell_type": "code",
   "execution_count": 14,
   "id": "f718dd6c",
   "metadata": {},
   "outputs": [
    {
     "data": {
      "image/png": "[encoded data removed]",
      "text/plain": [
       "<Figure size 864x432 with 1 Axes>"
      ]
     },
     "metadata": {
      "needs_background": "light"
     },
     "output_type": "display_data"
    }
   ],
   "source": [
    "# Visualization\n",
    "plt.figure(figsize=(12, 6))\n",
    "plt.bar(accuracies.keys(), accuracies.values(), color='skyblue')\n",
    "plt.xlabel('Models')\n",
    "plt.ylabel('Accuracy')\n",
    "plt.title('Model Accuracy Comparison')\n",
    "plt.ylim(0.9, 1.0)\n",
    "plt.xticks(rotation=45)\n",
    "plt.tight_layout()\n",
    "\n",
    "plt.show()"
   ]
  },
  {
   "cell_type": "code",
   "execution_count": 15,
   "id": "9bda7130",
   "metadata": {},
   "outputs": [
    {
     "name": "stdout",
     "output_type": "stream",
     "text": [
      "Logistic Regression: Accuracy = 0.94\n",
      "Decision Tree: Accuracy = 0.92\n",
      "Random Forest: Accuracy = 0.94\n",
      "Support Vector Machine: Accuracy = 0.94\n",
      "Gradient Boosting: Accuracy = 0.94\n",
      "Naive Bayes: Accuracy = 0.94\n",
      "K-Nearest Neighbors: Accuracy = 0.94\n"
     ]
    }
   ],
   "source": [
    "# Display the accuracy of each model\n",
    "for name, accuracy in accuracies.items():\n",
    "    print(f'{name}: Accuracy = {accuracy:.2f}')"
   ]
  }
 ],
 "metadata": {
  "kernelspec": {
   "display_name": "Python 3 (ipykernel)",
   "language": "python",
   "name": "python3"
  },
  "language_info": {
   "codemirror_mode": {
    "name": "ipython",
    "version": 3
   },
   "file_extension": ".py",
   "mimetype": "text/x-python",
   "name": "python",
   "nbconvert_exporter": "python",
   "pygments_lexer": "ipython3",
   "version": "3.9.12"
  }
 },
 "nbformat": 4,
 "nbformat_minor": 5
}
